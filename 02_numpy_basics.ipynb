{
 "cells": [
  {
   "cell_type": "markdown",
   "id": "6a31a59a-f988-4cf7-86c7-697063a9e2b1",
   "metadata": {},
   "source": [
    "[![Open In Colab](https://colab.research.google.com/assets/colab-badge.svg)](https://colab.research.google.com/github/jaidevd/linalg-numpy/blob/master/02_numpy_basics.ipynb)"
   ]
  },
  {
   "cell_type": "code",
   "execution_count": null,
   "id": "6d5e90e4-5d9d-4173-8440-3f54969c53a9",
   "metadata": {},
   "outputs": [],
   "source": [
    "import numpy as np\n",
    "import matplotlib.pyplot as plt\n",
    "plt.style.use('fivethirtyeight')"
   ]
  },
  {
   "cell_type": "markdown",
   "id": "075fa74a-c5fb-4fad-b6b7-49f214362648",
   "metadata": {},
   "source": [
    "# Array Creation in NumPy\n",
    "\n",
    "## Literals\n",
    "\n",
    "* A _list of numbers_ is a vector\n",
    "* A _list of list_ of numbers is a matrix\n",
    "* (A deeper nesting is called a tensor)"
   ]
  },
  {
   "cell_type": "code",
   "execution_count": null,
   "id": "8b0d775a-d1ee-471f-9490-8f69e5d2ff3c",
   "metadata": {},
   "outputs": [],
   "source": [
    "mylist = [1, 2, 3]\n",
    "x = np.array(mylist)\n",
    "x"
   ]
  },
  {
   "cell_type": "code",
   "execution_count": null,
   "id": "07a513cc-533b-452b-bbde-0d02e2b2799c",
   "metadata": {},
   "outputs": [],
   "source": [
    "mylist = [[1, 2, 3],\n",
    "          [4, 5, 6]]\n",
    "x = np.array(mylist)\n",
    "x"
   ]
  },
  {
   "cell_type": "markdown",
   "id": "470c5794-eea3-46fd-a557-0417cfb257b5",
   "metadata": {},
   "source": [
    "## Ranges"
   ]
  },
  {
   "cell_type": "code",
   "execution_count": null,
   "id": "d46729d9-8ae1-41ba-b243-fdb789c46323",
   "metadata": {},
   "outputs": [],
   "source": [
    "x = np.arange(1, 11)\n",
    "print(x)\n",
    "plt.scatter(x, np.zeros(x.shape))"
   ]
  },
  {
   "cell_type": "code",
   "execution_count": null,
   "id": "ce87e997-52b6-4ca6-9f3d-42c1a6205573",
   "metadata": {},
   "outputs": [],
   "source": [
    "x = np.linspace(2, 4, 10)\n",
    "print(x)\n",
    "plt.scatter(x, np.zeros(x.shape))"
   ]
  },
  {
   "cell_type": "markdown",
   "id": "a5dd8e1e-df1e-4ee1-a6d7-e6f8d983fc2d",
   "metadata": {},
   "source": [
    "## Constants"
   ]
  },
  {
   "cell_type": "code",
   "execution_count": null,
   "id": "706d4375-e605-4541-a0c0-bf44e2b07a3b",
   "metadata": {},
   "outputs": [],
   "source": [
    "np.zeros(3)"
   ]
  },
  {
   "cell_type": "code",
   "execution_count": null,
   "id": "f209a62a-7bd4-4538-9efc-4af80893a87a",
   "metadata": {},
   "outputs": [],
   "source": [
    "np.zeros((3, 2))"
   ]
  },
  {
   "cell_type": "code",
   "execution_count": null,
   "id": "3fee4025-d1bd-4903-9ba5-cb5ad2031149",
   "metadata": {},
   "outputs": [],
   "source": [
    "np.ones(3)"
   ]
  },
  {
   "cell_type": "code",
   "execution_count": null,
   "id": "f86b5195-9dda-4b8a-992f-2254d742a8c9",
   "metadata": {},
   "outputs": [],
   "source": [
    "np.ones((3, 2))"
   ]
  },
  {
   "cell_type": "code",
   "execution_count": null,
   "id": "34605dd8-2225-49b0-87ca-6897dec4fa05",
   "metadata": {},
   "outputs": [],
   "source": [
    "np.eye(3)"
   ]
  },
  {
   "cell_type": "markdown",
   "id": "d2a38b17-93e7-4ec3-b47d-1e7e43f70443",
   "metadata": {},
   "source": [
    "## Loading data from files (better done with Pandas)"
   ]
  },
  {
   "cell_type": "code",
   "execution_count": null,
   "id": "fc25901d-6cbf-457f-8c8e-ae98900712e7",
   "metadata": {},
   "outputs": [],
   "source": [
    "X = np.loadtxt('data/hwg.csv', delimiter=',', skiprows=1, usecols=[1, 2])\n",
    "print(X.shape)\n",
    "X"
   ]
  },
  {
   "cell_type": "code",
   "execution_count": null,
   "id": "be4e887a-17cc-4708-b10d-21327803d5ac",
   "metadata": {},
   "outputs": [],
   "source": [
    "import pandas as pd\n",
    "df = pd.read_csv('data/hwg.csv')\n",
    "df.head()"
   ]
  },
  {
   "cell_type": "code",
   "execution_count": null,
   "id": "71e199f5-940b-4310-91bd-89488c510139",
   "metadata": {},
   "outputs": [],
   "source": [
    "np.allclose(df[['Height', 'Weight']].values, X)"
   ]
  },
  {
   "cell_type": "markdown",
   "id": "c4461324-9173-43fe-be3d-b8858fa8050a",
   "metadata": {},
   "source": [
    "## Random Numbers and Distributions"
   ]
  },
  {
   "cell_type": "code",
   "execution_count": null,
   "id": "b294698e-5bfc-46f0-9f52-61b9eb70d806",
   "metadata": {},
   "outputs": [],
   "source": [
    "np.random.<TAB>"
   ]
  },
  {
   "cell_type": "code",
   "execution_count": null,
   "id": "c894ef26-31a5-43a1-9f3b-4b121e1d753c",
   "metadata": {},
   "outputs": [],
   "source": [
    "# Toss a coin 5 times\n",
    "\n",
    "np.random.choice([True, False], size=(5,))"
   ]
  },
  {
   "cell_type": "code",
   "execution_count": null,
   "id": "906278b3-5622-46aa-9b0a-1d0086f4eb4d",
   "metadata": {},
   "outputs": [],
   "source": [
    "# Throw a die 7 times\n",
    "\n",
    "outcomes = np.arange(1, 7)\n",
    "np.random.choice(outcomes, 7)"
   ]
  },
  {
   "cell_type": "code",
   "execution_count": null,
   "id": "8a3dc649-6b77-4916-9cdf-97e66153f0f1",
   "metadata": {},
   "outputs": [],
   "source": [
    "# Generate a normal distribution with mu=3, sigma=0.5, 1000 samples\n",
    "\n",
    "mu, sigma = 3, 0.5\n",
    "x = np.random.normal(3, 0.5, size=(1000,))\n",
    "mu_sample, sigma_sample = x.mean(), x.std()\n",
    "\n",
    "fig, ax = plt.subplots(figsize=(8, 6))\n",
    "ax.hist(x, bins=50, alpha=0.6)\n",
    "ylim = ax.get_ylim()\n",
    "ax.vlines(mu, *ylim, 'k', label='$\\mu$')\n",
    "ax.vlines([mu + sigma, mu - sigma], *ylim, 'g', label='$\\mu\\pm\\sigma$', alpha=0.5)\n",
    "ax.vlines([mu + 2 * sigma, mu - 2 * sigma], *ylim, 'r', label='$\\mu\\pm2\\sigma$', alpha=0.5)\n",
    "ax.set_title('$\\hat{\\mu}$ =' + f'{mu_sample:.2f};' + '$\\hat{\\sigma}$ =' + f'{sigma_sample:.2f}')\n",
    "_ = plt.legend()"
   ]
  },
  {
   "cell_type": "markdown",
   "id": "354206d8-7f58-4a3e-b43f-61e5185543b2",
   "metadata": {},
   "source": [
    "# Arithmetic with Arrays"
   ]
  },
  {
   "cell_type": "code",
   "execution_count": null,
   "id": "45ffd8d7-61f9-4f3a-b93b-4d9581079228",
   "metadata": {},
   "outputs": [],
   "source": [
    "print(x.shape)"
   ]
  },
  {
   "cell_type": "code",
   "execution_count": null,
   "id": "030941ca-ec5e-4b29-a1e0-03cd90975855",
   "metadata": {},
   "outputs": [],
   "source": [
    "# Add a constant to a numpy array\n",
    "y = x + 3\n",
    "\n",
    "fig, ax = plt.subplots(figsize=(16, 6))\n",
    "ax.hist(x, bins=50, alpha=0.6, label='x')\n",
    "ax.hist(y, bins=50, alpha=0.6, label='y')\n",
    "plt.legend()"
   ]
  },
  {
   "cell_type": "markdown",
   "id": "ff3176ec-12dd-40bc-8085-6693b7b929a0",
   "metadata": {},
   "source": [
    "#### Subtraction, multiplication and division all work the same way."
   ]
  },
  {
   "cell_type": "markdown",
   "id": "c722554a-b5cd-4ef6-9f94-d2a7444e92eb",
   "metadata": {},
   "source": [
    "#### Exercise: Create a normal distribution with $\\mu=0$ and $\\sigma=1$. Transform it with _simple numpy arithmetic_ into a distribution with $\\mu=3$ and $\\sigma=0.5$. Draw their histograms.\n",
    "Hint: For a distribution $X \\sim \\mathcal{N}(\\mu, \\sigma) $, the following properties hold:\n",
    "\n",
    "* $E[X + c] = \\mu + c$\n",
    "* $ Var(bX) = b^2\\sigma^2 $\n",
    "\n",
    "($c$ and $b$ are any real numbers)"
   ]
  },
  {
   "cell_type": "code",
   "execution_count": null,
   "id": "b4894c8e-391d-4aa9-b68d-faaecff9c23d",
   "metadata": {},
   "outputs": [],
   "source": [
    "# Enter code here"
   ]
  },
  {
   "cell_type": "markdown",
   "id": "55f8c435-e4c7-416a-a6a2-320732fbebd9",
   "metadata": {},
   "source": [
    "# Universal Functions: `ufuncs`"
   ]
  },
  {
   "cell_type": "markdown",
   "id": "303b2ae2-7fc8-40f0-b8d9-95264150309c",
   "metadata": {},
   "source": [
    "## Implementing single variable scalar valued functions: $f(x): \\mathbb{R} \\rightarrow \\mathbb{R}$\n",
    "### E.g. The sigmoid function\n",
    "\n",
    "$$ f(x) = \\frac{1}{1 + e^{-x}}$$"
   ]
  },
  {
   "cell_type": "code",
   "execution_count": null,
   "id": "47dfe9cc-cc0a-4c52-8809-bf6c786e7433",
   "metadata": {},
   "outputs": [],
   "source": [
    "def sigmoid(x):\n",
    "    return 1 / (1 + np.exp(-x))\n",
    "\n",
    "x = np.linspace(-5, 5, 100)\n",
    "y = sigmoid(x)\n",
    "plt.plot(x, y)\n",
    "plt.xlabel('$x$')\n",
    "_ = plt.ylabel('$\\sigma(x)$')"
   ]
  },
  {
   "cell_type": "markdown",
   "id": "61be7822-ca50-4ab5-a46b-825d03567a2d",
   "metadata": {},
   "source": [
    "#### Exercise: The derivative $f'(x)$ of the sigmoid function is given by $f(x)(1 - f(x))$\n",
    "#### Write a function to compute this derivative, and plot both $f(x)$ and $f'(x)$ on the same graph"
   ]
  },
  {
   "cell_type": "code",
   "execution_count": null,
   "id": "34a9a7d3-65b5-4511-8ac2-3f90147fdf87",
   "metadata": {},
   "outputs": [],
   "source": [
    "# Enter code here"
   ]
  },
  {
   "cell_type": "markdown",
   "id": "a96d2454-1c4c-470b-970d-5e6d53afce73",
   "metadata": {},
   "source": [
    "### Reference: Some of the unary ufuncs in NumPy\n",
    "\n",
    "<table>\n",
    "<thead><tr>\n",
    "<th>Operator</th>\n",
    "<th>Equivalent ufunc</th>\n",
    "<th>Description</th>\n",
    "</tr>\n",
    "</thead>\n",
    "<tbody>\n",
    "<tr>\n",
    "<td><code>+</code></td>\n",
    "<td><code>np.add</code></td>\n",
    "<td>Addition (e.g., <code>1 + 1 = 2</code>)</td>\n",
    "</tr>\n",
    "<tr>\n",
    "<td><code>-</code></td>\n",
    "<td><code>np.subtract</code></td>\n",
    "<td>Subtraction (e.g., <code>3 - 2 = 1</code>)</td>\n",
    "</tr>\n",
    "<tr>\n",
    "<td><code>-</code></td>\n",
    "<td><code>np.negative</code></td>\n",
    "<td>Unary negation (e.g., <code>-2</code>)</td>\n",
    "</tr>\n",
    "<tr>\n",
    "<td><code>*</code></td>\n",
    "<td><code>np.multiply</code></td>\n",
    "<td>Multiplication (e.g., <code>2 * 3 = 6</code>)</td>\n",
    "</tr>\n",
    "<tr>\n",
    "<td><code>/</code></td>\n",
    "<td><code>np.divide</code></td>\n",
    "<td>Division (e.g., <code>3 / 2 = 1.5</code>)</td>\n",
    "</tr>\n",
    "<tr>\n",
    "<td><code>//</code></td>\n",
    "<td><code>np.floor_divide</code></td>\n",
    "<td>Floor division (e.g., <code>3 // 2 = 1</code>)</td>\n",
    "</tr>\n",
    "<tr>\n",
    "<td><code>**</code></td>\n",
    "<td><code>np.power</code></td>\n",
    "<td>Exponentiation (e.g., <code>2 ** 3 = 8</code>)</td>\n",
    "</tr>\n",
    "<tr>\n",
    "<td><code>%</code></td>\n",
    "<td><code>np.mod</code></td>\n",
    "<td>Modulus/remainder (e.g., <code>9 % 4 = 1</code>)</td>\n",
    "</tr>\n",
    "</tbody>\n",
    "</table>\n",
    "\n",
    "**Source:** [Python Data Science Handobok by Jake VanderPlas](https://jakevdp.github.io/PythonDataScienceHandbook/02.03-computation-on-arrays-ufuncs.html)"
   ]
  },
  {
   "cell_type": "markdown",
   "id": "4bea5810-0d7f-45ce-804b-ba241ecb9b1b",
   "metadata": {},
   "source": [
    "# Indexing and Slicing\n",
    "## Indexing is broadly of two types - **integer indexing** and **boolean indexing** (aka **masking**)"
   ]
  },
  {
   "cell_type": "code",
   "execution_count": null,
   "id": "4c5cd8a7-8173-4a62-825e-455d85cb6165",
   "metadata": {},
   "outputs": [],
   "source": [
    "x = np.arange(1, 10)\n",
    "ix = np.arange(0, 10, 2)\n",
    "print(x)\n",
    "print(ix)"
   ]
  },
  {
   "cell_type": "code",
   "execution_count": null,
   "id": "73af5c75-a93b-459d-b45b-24cd65830a13",
   "metadata": {},
   "outputs": [],
   "source": [
    "x[ix]"
   ]
  },
  {
   "cell_type": "code",
   "execution_count": null,
   "id": "819b49f1-f920-476c-82bc-3fe0f0f229d6",
   "metadata": {},
   "outputs": [],
   "source": [
    "x % 2 != 0"
   ]
  },
  {
   "cell_type": "code",
   "execution_count": null,
   "id": "c53c605a-c0d2-4981-87d4-b4e68478187d",
   "metadata": {},
   "outputs": [],
   "source": [
    "ix = x % 2 != 0\n",
    "x[ix]"
   ]
  },
  {
   "cell_type": "code",
   "execution_count": null,
   "id": "c27efec2-7b76-4604-a19d-a9f0974bbd80",
   "metadata": {},
   "outputs": [],
   "source": [
    "x[::2]"
   ]
  },
  {
   "cell_type": "markdown",
   "id": "0860819c-56a0-481b-971c-7b09cef86dda",
   "metadata": {},
   "source": [
    "#### Exercise - Create an array with integers from 1 to 100, both inclusive. Filter out all elements that are multiples of 3 _or_ 5, with:\n",
    "* #### integer indexing\n",
    "* #### boolean indexing"
   ]
  },
  {
   "cell_type": "code",
   "execution_count": null,
   "id": "52d4a562-486c-4c8f-93b6-7c45575c983b",
   "metadata": {},
   "outputs": [],
   "source": [
    "# Enter code here"
   ]
  },
  {
   "cell_type": "markdown",
   "id": "b874f775-5fc5-4a6c-ac3a-4b6f6529444c",
   "metadata": {},
   "source": [
    "### Indexing Matrices"
   ]
  },
  {
   "cell_type": "code",
   "execution_count": null,
   "id": "ea9a00d8-ff4b-4ded-87fb-a810d2a9bb7d",
   "metadata": {},
   "outputs": [],
   "source": [
    "x = np.arange(1, 10).reshape(3, 3)\n",
    "x"
   ]
  },
  {
   "cell_type": "code",
   "execution_count": null,
   "id": "90dfec6f-1e37-4065-836c-02b83e097af5",
   "metadata": {},
   "outputs": [],
   "source": [
    "x[0]"
   ]
  },
  {
   "cell_type": "code",
   "execution_count": null,
   "id": "b4cd35d7-4a5f-4c86-842e-07f0ddcf7c9e",
   "metadata": {},
   "outputs": [],
   "source": [
    "x[0, :]"
   ]
  },
  {
   "cell_type": "code",
   "execution_count": null,
   "id": "c003df1e-4b0d-4fd8-8650-5e0bdffdeca3",
   "metadata": {},
   "outputs": [],
   "source": [
    "x[:, 0]"
   ]
  },
  {
   "cell_type": "code",
   "execution_count": null,
   "id": "6be29162-729c-4e17-92bd-63eb6f473c1d",
   "metadata": {},
   "outputs": [],
   "source": [
    "# More than one row?\n",
    "x[[1, 2], :]"
   ]
  },
  {
   "cell_type": "code",
   "execution_count": null,
   "id": "64d83b2b-794e-4cfd-a016-70ca89e08918",
   "metadata": {},
   "outputs": [],
   "source": [
    "x[[0, 2], :]"
   ]
  },
  {
   "cell_type": "code",
   "execution_count": null,
   "id": "8c0b5a29-b012-414c-b894-5dc4f91cd73a",
   "metadata": {},
   "outputs": [],
   "source": [
    "# Extract rows that sum to an even number\n",
    "ix = x.sum(axis=1) % 2 == 0\n",
    "x[ix, :]"
   ]
  },
  {
   "cell_type": "code",
   "execution_count": null,
   "id": "af65a800-bf1b-48fa-b1c2-9604f54e48df",
   "metadata": {},
   "outputs": [],
   "source": [
    "# Extract columns that sum to an odd number"
   ]
  },
  {
   "cell_type": "code",
   "execution_count": null,
   "id": "a3bb6ad7-a6b9-43d0-a315-c257aa206719",
   "metadata": {},
   "outputs": [],
   "source": [
    "ix = x.sum(axis=0) % 2 != 0\n",
    "x[:, ix]"
   ]
  },
  {
   "cell_type": "markdown",
   "id": "e443266f-9e61-4ed2-aee0-cd2357cca92e",
   "metadata": {},
   "source": [
    "#### Exercise: A magic square is a square matrix such that all rows, columns and both diagonals sum to the same number.\n",
    "#### Write a function `is_magic_square` which takes a matrix, and verifies if it is a magic square.\n",
    "#### Test it on the two matrices `X1` and `X2` provided below.\n",
    "Hints:\n",
    "* Use `np.diag(x)` to extract the diagonal elements of a matrix.\n",
    "* Use `x[:, ::-1]` to flip the matrix left-to-right.\n",
    "* `np.unique(x)` returns an array of unique elements in `x`"
   ]
  },
  {
   "cell_type": "code",
   "execution_count": null,
   "id": "6b020b34-ca26-419e-97f9-ecb0a9903585",
   "metadata": {},
   "outputs": [],
   "source": [
    "X1 = np.array([\n",
    "    [2, 7, 6],\n",
    "    [9, 5, 1],\n",
    "    [4, 3, 8]\n",
    "])\n",
    "X2 = np.array([\n",
    "    [16, 3, 2, 13],\n",
    "    [5, 10, 11, 8],\n",
    "    [9, 6, 7, 12],\n",
    "    [4, 15, 14, 1]\n",
    "])"
   ]
  },
  {
   "cell_type": "code",
   "execution_count": null,
   "id": "ca4ab04f-6225-415e-ae50-b881f94557bb",
   "metadata": {},
   "outputs": [],
   "source": [
    "def is_magic_square(x):\n",
    "    # Enter code here\n",
    "    return False"
   ]
  }
 ],
 "metadata": {
  "kernelspec": {
   "display_name": "Python 3 (ipykernel)",
   "language": "python",
   "name": "python3"
  },
  "language_info": {
   "codemirror_mode": {
    "name": "ipython",
    "version": 3
   },
   "file_extension": ".py",
   "mimetype": "text/x-python",
   "name": "python",
   "nbconvert_exporter": "python",
   "pygments_lexer": "ipython3",
   "version": "3.7.11"
  }
 },
 "nbformat": 4,
 "nbformat_minor": 5
}
