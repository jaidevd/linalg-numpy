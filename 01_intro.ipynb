{
 "cells": [
  {
   "cell_type": "markdown",
   "metadata": {},
   "source": [
    "[![Open In Colab](https://colab.research.google.com/assets/colab-badge.svg)](https://colab.research.google.com/github/jaidevd/linalg-numpy/blob/master/01_intro.ipynb)"
   ]
  },
  {
   "cell_type": "markdown",
   "metadata": {},
   "source": [
    "# Introduction\n",
    "\n",
    "> If we could see higher dimensions, we would not need machine learning.\n",
    "\n",
    "\\- Andrew Ng\n",
    "\n",
    "> Your instructor is not Rembrandt.\n",
    "\n",
    "\\- Gilbert Stang"
   ]
  },
  {
   "cell_type": "code",
   "execution_count": null,
   "metadata": {},
   "outputs": [],
   "source": [
    "import numpy as np\n",
    "import matplotlib.pyplot as plt\n",
    "plt.style.use('fivethirtyeight')\n",
    "%matplotlib inline"
   ]
  },
  {
   "cell_type": "markdown",
   "metadata": {},
   "source": [
    "## A **vector** is an ordered collection of numbers\n",
    "\n",
    "$$\\mathbf{x} = \\begin{bmatrix}1\\\\2\\\\3\\\\\\vdots\\\\n\\end{bmatrix}$$\n",
    "\n",
    "### (which means nothing without a context).\n",
    "\n",
    "### A vector is _used_ to represent points in space."
   ]
  },
  {
   "cell_type": "code",
   "execution_count": null,
   "metadata": {},
   "outputs": [],
   "source": [
    "# IGNORE\n",
    "COLORS = plt.rcParams['axes.prop_cycle'].by_key()['color']\n",
    "\n",
    "def draw_vectors(*vectors, **kwargs):\n",
    "    X = np.vstack(vectors)\n",
    "    fig, ax = plt.subplots()\n",
    "    for i, v in enumerate(X):\n",
    "        ax.arrow(0, 0, *v, color=COLORS[i], length_includes_head=True,\n",
    "                 width=0.03, head_width=0.1)\n",
    "    xmax, ymax = np.abs(X.max(0))\n",
    "    ax.axis([-xmax - 1, xmax + 1, -ymax -1, ymax + 1])\n",
    "    ax.set_aspect('auto')"
   ]
  },
  {
   "cell_type": "code",
   "execution_count": null,
   "metadata": {},
   "outputs": [],
   "source": [
    "x = np.array([1, 1])\n",
    "y = np.array([1, -1])\n",
    "draw_vectors(x, y)"
   ]
  },
  {
   "cell_type": "markdown",
   "metadata": {},
   "source": [
    "----------------\n",
    "# Vectors in literature\n",
    "\n",
    "### Typically denoted by a lowercase **bold** letter, like\n",
    "\n",
    "$$ \\mathbf{x} = \\begin{bmatrix}1\\\\2\\\\3\\\\\\vdots\\\\n\\end{bmatrix}$$\n",
    "\n",
    "### Scalars are denoted with lowercase letters, like\n",
    "$$ x, y, z, ... $$\n",
    "\n",
    "### The elements of a vector, which are scalars, are denoted as\n",
    "\n",
    "$$ \\mathbf{x} = \\begin{bmatrix}x_{1}\\\\x_{2}\\\\\\vdots\\\\x_{i}\\\\\\vdots\\\\x_{n}\\end{bmatrix}$$\n",
    "\n",
    "## \"Vectors\" are always \"**column**\" vectors - unless specified otherwise."
   ]
  },
  {
   "cell_type": "markdown",
   "metadata": {},
   "source": [
    "--------------\n",
    "# Vectors in Python:\n",
    "\n",
    "* ### don't exist!\n",
    "* ### Lists are not vectors\n",
    "* ### NumPy provides the fundamental array object - **contiguous** and **homogenous**\n",
    "* ### Mathematicians say vectors, computer scientists say arrays\n",
    "\n",
    "# Arrays in NumPy:"
   ]
  },
  {
   "cell_type": "code",
   "execution_count": null,
   "metadata": {},
   "outputs": [],
   "source": [
    "X = np.arange(10)\n",
    "print('Shape: ', X.shape)\n",
    "print(X)\n",
    "print(\"Type: \", type(X))"
   ]
  },
  {
   "cell_type": "markdown",
   "metadata": {},
   "source": [
    "### These are **not** column vectors,"
   ]
  },
  {
   "cell_type": "code",
   "execution_count": null,
   "metadata": {},
   "outputs": [],
   "source": [
    "X.shape"
   ]
  },
  {
   "cell_type": "code",
   "execution_count": null,
   "metadata": {},
   "outputs": [],
   "source": [
    "X.reshape(-1, 1)"
   ]
  },
  {
   "cell_type": "markdown",
   "metadata": {},
   "source": [
    "## For a NumPy array to be called a vector in the true sense, it must have two dimensions, where one of them has only one element along it.\n",
    "\n",
    "## But, isn't a 2-D vector essentially a matrix?\n",
    "### (Hold my jupyter notebook, we'll be back to address this.)\n",
    "------"
   ]
  },
  {
   "cell_type": "markdown",
   "metadata": {},
   "source": [
    "# Introduction to Matrices\n",
    "\n",
    "> \"Unfortunately, no one can be told what the Matrix is. You have to see it for yourself.\"\n",
    "\n",
    "\\- Morpheus, _The Matrix_ (1999)\n",
    "\n",
    "* ## A matrix is also collection of numbers, but unlike a vector, it has more than one _index_.\n",
    "\n",
    "$$\\mathbf{X} = \\begin{bmatrix}1 & 2 & 3\\\\4 & 5 & 6\\\\7 & 8 & 9\\end{bmatrix}$$\n",
    "\n",
    "### Or:\n",
    "\n",
    "$$\\mathbf{X} = \\begin{bmatrix}x_{11} & x_{12} & x_{13}\\\\x_{21} & x_{22} & x_{23}\\\\x_{31} & x_{32} & x_{33}\\end{bmatrix}$$\n",
    "\n",
    "* ## A matrix is therefore, also a collection of vectors.\n",
    "\n",
    "$$\\mathbf{X} = \\begin{bmatrix}\\mathbf{x_{1}} & \\mathbf{x_{2}}& \\mathbf{x_{3}}\\end{bmatrix}$$\n",
    "\n",
    "### Notice uppercase, lowercase, bold and regular letters."
   ]
  },
  {
   "cell_type": "markdown",
   "metadata": {},
   "source": [
    "# Matrices in NumPy\n",
    "\n",
    "* ### Also called arrays\n",
    "* ### Are not limited to two dimensions"
   ]
  },
  {
   "cell_type": "code",
   "execution_count": null,
   "metadata": {},
   "outputs": [],
   "source": [
    "X = np.array([[1, 2, 3],\n",
    "              [4, 5, 6],\n",
    "              [7, 8, 9]])\n",
    "print('Shape', X.shape)\n",
    "print(X)\n",
    "print('Type: ', type(X))"
   ]
  },
  {
   "cell_type": "markdown",
   "metadata": {},
   "source": [
    "## Extracting rows and columns from matrices\n",
    "\n",
    "```python\n",
    "r_i = X[i, :]\n",
    "c_i = X[:, i]\n",
    "```"
   ]
  },
  {
   "cell_type": "code",
   "execution_count": null,
   "metadata": {},
   "outputs": [],
   "source": [
    "r0 = X[0, :]\n",
    "print(r0)"
   ]
  },
  {
   "cell_type": "code",
   "execution_count": null,
   "metadata": {},
   "outputs": [],
   "source": [
    "c0 = X[:, 0]\n",
    "print(c0)"
   ]
  },
  {
   "cell_type": "markdown",
   "metadata": {},
   "source": [
    "-----\n",
    "## Question: What is the shape of a matrix that represents 3 points on a graph paper?\n",
    "\n",
    "## Exercise: Create a matrix containing any two 2D vectors which are orthogonal, and draw them with the `draw_vectors` function."
   ]
  },
  {
   "cell_type": "code",
   "execution_count": null,
   "metadata": {},
   "outputs": [],
   "source": [
    "# enter code here"
   ]
  }
 ],
 "metadata": {
  "kernelspec": {
   "display_name": "Python 3 (ipykernel)",
   "language": "python",
   "name": "python3"
  },
  "language_info": {
   "codemirror_mode": {
    "name": "ipython",
    "version": 3
   },
   "file_extension": ".py",
   "mimetype": "text/x-python",
   "name": "python",
   "nbconvert_exporter": "python",
   "pygments_lexer": "ipython3",
   "version": "3.7.11"
  }
 },
 "nbformat": 4,
 "nbformat_minor": 4
}
