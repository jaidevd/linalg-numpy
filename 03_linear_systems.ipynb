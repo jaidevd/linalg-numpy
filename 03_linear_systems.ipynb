{
 "cells": [
  {
   "cell_type": "markdown",
   "metadata": {},
   "source": [
    "[![Open In Colab](https://colab.research.google.com/assets/colab-badge.svg)](https://colab.research.google.com/github/jaidevd/linalg-numpy/blob/master/03_linear_systems.ipynb)"
   ]
  },
  {
   "cell_type": "code",
   "execution_count": null,
   "metadata": {},
   "outputs": [],
   "source": [
    "import numpy as np\n",
    "import matplotlib.pyplot as plt\n",
    "plt.style.use('fivethirtyeight')\n",
    "%matplotlib inline"
   ]
  },
  {
   "cell_type": "markdown",
   "metadata": {},
   "source": [
    "### The single most important equation in linear systems\n",
    "\n",
    "$$\\mathbf{y} = \\mathbf{A}\\mathbf{x}$$\n",
    "\n",
    "### Or\n",
    "\n",
    "$$\\mathbf{Y} = \\mathbf{A}\\mathbf{X}$$\n",
    "\n",
    "$$\\mathbf{y} = \\mathbf{A}\\mathbf{x}$$\n",
    "\n",
    "### Where $\\mathbf{x}$ is the input, $\\mathbf{y}$ is the output, or observations, and $\\mathbf{A}$ is a matrix of coefficients."
   ]
  },
  {
   "cell_type": "markdown",
   "metadata": {},
   "source": [
    "--------------\n",
    "# Linear System of Equations\n",
    "\n",
    "### Question: Why does it take two points to define a line?"
   ]
  },
  {
   "cell_type": "code",
   "execution_count": null,
   "metadata": {},
   "outputs": [],
   "source": [
    "# pick any two points, at random, between 0 and 10\n",
    "\n",
    "# First point - P\n",
    "px, py = np.random.randint(0, high=11, size=(2,))\n",
    "\n",
    "# Second point - Q\n",
    "qx, qy = np.random.randint(0, high=11, size=(2,))\n",
    "\n",
    "fig, ax = plt.subplots()\n",
    "ax.scatter([px, qx], [py, qy], s=100)\n",
    "ax.annotate('P', [px, py], fontsize='xx-large')\n",
    "ax.annotate('Q', [qx, qy], fontsize='xx-large')\n",
    "ax.axis([-1, 12, -1, 12])\n",
    "ax.set_aspect('auto')"
   ]
  },
  {
   "cell_type": "markdown",
   "metadata": {},
   "source": [
    "### Assume that the two points are joined by a line\n",
    "$$y = mx + c$$\n",
    "### i.e.\n",
    "$$p_{y} = mp_{x} + c$$\n",
    "### and\n",
    "$$q_{y} = mq_{x} + c$$\n",
    "\n",
    "\n",
    "### Exercise: Arrange the equations above in the form\n",
    "\n",
    "$$\\mathbf{d} = \\mathbf{A}\\mathbf{b}$$\n",
    "\n",
    "### What are $\\mathbf{A}$, $\\mathbf{b}$ and $\\mathbf{d}$?"
   ]
  },
  {
   "cell_type": "code",
   "execution_count": null,
   "metadata": {},
   "outputs": [],
   "source": [
    "np.linalg.solve?"
   ]
  },
  {
   "cell_type": "markdown",
   "metadata": {},
   "source": [
    "### Exercise: Construct the matrices $\\mathbf{A}$, $\\mathbf{b}$ and $\\mathbf{c}$ with NumPy and solve for the slope and the intercept of the line\n"
   ]
  },
  {
   "cell_type": "code",
   "execution_count": null,
   "metadata": {},
   "outputs": [],
   "source": [
    "### Put the slope in the variable `m` and the intercept in a variable `c`.\n",
    "### Then run the next cell to check your solution\n",
    "# enter code here"
   ]
  },
  {
   "cell_type": "code",
   "execution_count": null,
   "metadata": {},
   "outputs": [],
   "source": [
    "xx = np.linspace(0, 10, 100)\n",
    "yy = m * xx + c\n",
    "fig, ax = plt.subplots()\n",
    "ax.scatter([px, qx], [py, qy], s=100)\n",
    "ax.annotate('P', [px, py], fontsize='xx-large')\n",
    "ax.annotate('Q', [qx, qy], fontsize='xx-large')\n",
    "ax.plot(xx, yy)"
   ]
  },
  {
   "cell_type": "markdown",
   "metadata": {},
   "source": [
    "# What you just solved was a trivial form of linear regression!\n",
    "-----------------"
   ]
  },
  {
   "cell_type": "markdown",
   "metadata": {},
   "source": [
    "# Types of Linear Systems\n",
    "\n",
    "* ## Ideal System\n",
    "  - ### number of equations = number of unknowns\n",
    "  - ### Unique solutions\n",
    "\n",
    "* ## Underdetermined System:\n",
    "  - ### number of equations < number of unknowns\n",
    "  - ### Infinitely many solutions! (Or no solution)\n",
    "\n",
    "* ## Overdetermined systems:\n",
    "  - ### number of equations > number of unknowns\n",
    "  - ### No unique solutions"
   ]
  },
  {
   "cell_type": "markdown",
   "metadata": {},
   "source": [
    "# Application: Linear Regression\n",
    "## We want to fit a straight line through the following dataset:"
   ]
  },
  {
   "cell_type": "code",
   "execution_count": null,
   "metadata": {},
   "outputs": [],
   "source": [
    "import pandas as pd\n",
    "df = pd.read_csv('data/hwg.csv')\n",
    "fig, ax = plt.subplots(figsize=(10, 8))\n",
    "ax.scatter(df['Height'], df['Weight'], alpha=0.2)"
   ]
  },
  {
   "cell_type": "markdown",
   "metadata": {},
   "source": [
    "### Question: What type of a system of equations is this? Ideal, underdetermined or overdetermined?"
   ]
  },
  {
   "cell_type": "markdown",
   "metadata": {},
   "source": [
    "### Each y-coordinate, $y_{i}$ can be defined as:\n",
    "### $$y_{i} = x_{i}\\beta + \\epsilon$$"
   ]
  },
  {
   "cell_type": "markdown",
   "metadata": {},
   "source": [
    "## Ordinary Least Squares solution\n",
    "### Optimal solution: Find the $\\beta$ which minimizes:\n",
    "\n",
    "### $$S(\\beta) = \\|\\mathbf{y} -\\mathbf{x}\\beta\\|^2$$\n",
    "\n",
    "### The optimal $\\beta$ is:\n",
    "### $$\\hat{\\beta} = (\\mathbf{x}^{T}\\mathbf{x})^{-1}\\mathbf{x}^{T}\\mathbf{y}$$"
   ]
  },
  {
   "cell_type": "code",
   "execution_count": null,
   "metadata": {},
   "outputs": [],
   "source": [
    "np.transpose?"
   ]
  },
  {
   "cell_type": "code",
   "execution_count": null,
   "metadata": {},
   "outputs": [],
   "source": [
    "np.linalg.inv?"
   ]
  },
  {
   "cell_type": "code",
   "execution_count": null,
   "metadata": {},
   "outputs": [],
   "source": [
    "np.dot?"
   ]
  },
  {
   "cell_type": "code",
   "execution_count": null,
   "metadata": {},
   "outputs": [],
   "source": [
    "X = np.c_[np.ones((df.shape[0],)), df['Height'].values]\n",
    "Y = df['Weight'].values.reshape(-1, 1)"
   ]
  },
  {
   "cell_type": "markdown",
   "metadata": {},
   "source": [
    "### Exercise: use the formula above to find the optimal beta, given the X and Y as defined.\n",
    "### Place your solution in a variable named `beta`,\n",
    "### then run the cell below to check your solution"
   ]
  },
  {
   "cell_type": "code",
   "execution_count": null,
   "metadata": {},
   "outputs": [],
   "source": [
    "# enter code here"
   ]
  },
  {
   "cell_type": "code",
   "execution_count": null,
   "metadata": {},
   "outputs": [],
   "source": [
    "fig, ax = plt.subplots(figsize=(10, 8))\n",
    "ax.scatter(df['Height'], df['Weight'], alpha=0.2)\n",
    "ax.plot(X[:, 1], np.dot(X, beta).ravel(), 'g')"
   ]
  }
 ],
 "metadata": {
  "kernelspec": {
   "display_name": "Python 3 (ipykernel)",
   "language": "python",
   "name": "python3"
  },
  "language_info": {
   "codemirror_mode": {
    "name": "ipython",
    "version": 3
   },
   "file_extension": ".py",
   "mimetype": "text/x-python",
   "name": "python",
   "nbconvert_exporter": "python",
   "pygments_lexer": "ipython3",
   "version": "3.7.11"
  }
 },
 "nbformat": 4,
 "nbformat_minor": 4
}
